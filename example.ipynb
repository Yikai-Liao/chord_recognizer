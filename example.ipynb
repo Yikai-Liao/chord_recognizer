{
 "cells": [
  {
   "cell_type": "code",
   "execution_count": 1,
   "outputs": [],
   "source": [
    "import os\n",
    "\n",
    "# midi_path = \"test_data/The Day We Find Love.mid\"\n",
    "midi_path = \"test_data/107.mid\"\n",
    "msf_path = os.path.splitext(midi_path)[0] + \".msf\""
   ],
   "metadata": {
    "collapsed": false,
    "pycharm": {
     "name": "#%%\n"
    }
   }
  },
  {
   "cell_type": "code",
   "execution_count": null,
   "outputs": [],
   "source": [
    "from chord_recognizer import recognize_chords\n",
    "\n",
    "result = recognize_chords(midi_path, note_precision=0.125)\n",
    "result.to_csv(os.path.splitext(midi_path)[0] + \".csv\", index=False)\n",
    "result"
   ],
   "metadata": {
    "collapsed": false,
    "pycharm": {
     "name": "#%%\n",
     "is_executing": true
    }
   }
  },
  {
   "cell_type": "code",
   "execution_count": 3,
   "outputs": [
    {
     "name": "stdout",
     "output_type": "stream",
     "text": [
      "63.1 ms ± 562 µs per loop (mean ± std. dev. of 7 runs, 10 loops each)\n"
     ]
    }
   ],
   "source": [
    "%%timeit\n",
    "recognize_chords(midi_path, note_precision=0.125)"
   ],
   "metadata": {
    "collapsed": false,
    "pycharm": {
     "name": "#%%\n"
    }
   }
  },
  {
   "cell_type": "code",
   "execution_count": 4,
   "outputs": [],
   "source": [
    "from chord_recognizer.util import Sequence\n",
    "\n",
    "s = Sequence.from_midi(midi_path).to_msf(960)\n",
    "with open(msf_path, \"wb\") as f:\n",
    "    f.write(s.SerializeToString())"
   ],
   "metadata": {
    "collapsed": false,
    "pycharm": {
     "name": "#%%\n"
    }
   }
  },
  {
   "cell_type": "code",
   "execution_count": 5,
   "outputs": [
    {
     "name": "stdout",
     "output_type": "stream",
     "text": [
      "40.2 ms ± 276 µs per loop (mean ± std. dev. of 7 runs, 10 loops each)\n"
     ]
    }
   ],
   "source": [
    "%%timeit\n",
    "recognize_chords(msf_path, note_precision=0.125)"
   ],
   "metadata": {
    "collapsed": false,
    "pycharm": {
     "name": "#%%\n"
    }
   }
  },
  {
   "cell_type": "code",
   "execution_count": 6,
   "outputs": [
    {
     "data": {
      "text/plain": "     start  end       name          pitch\n0        0    1          N             []\n1        2    7     C#:min      [1, 4, 8]\n2        8   10     F#:min      [1, 6, 9]\n3       11   13  F#:min/b3      [1, 6, 9]\n4       14   17      A:maj      [1, 4, 9]\n..     ...  ...        ...            ...\n151    492  494      A:maj      [1, 4, 9]\n152    495  496     Ab:min     [3, 8, 11]\n153    497  499    Ab:min7  [3, 6, 8, 11]\n154    500  503     C#:min      [1, 4, 8]\n155    504  505          N             []\n\n[156 rows x 4 columns]",
      "text/html": "<div>\n<style scoped>\n    .dataframe tbody tr th:only-of-type {\n        vertical-align: middle;\n    }\n\n    .dataframe tbody tr th {\n        vertical-align: top;\n    }\n\n    .dataframe thead th {\n        text-align: right;\n    }\n</style>\n<table border=\"1\" class=\"dataframe\">\n  <thead>\n    <tr style=\"text-align: right;\">\n      <th></th>\n      <th>start</th>\n      <th>end</th>\n      <th>name</th>\n      <th>pitch</th>\n    </tr>\n  </thead>\n  <tbody>\n    <tr>\n      <th>0</th>\n      <td>0</td>\n      <td>1</td>\n      <td>N</td>\n      <td>[]</td>\n    </tr>\n    <tr>\n      <th>1</th>\n      <td>2</td>\n      <td>7</td>\n      <td>C#:min</td>\n      <td>[1, 4, 8]</td>\n    </tr>\n    <tr>\n      <th>2</th>\n      <td>8</td>\n      <td>10</td>\n      <td>F#:min</td>\n      <td>[1, 6, 9]</td>\n    </tr>\n    <tr>\n      <th>3</th>\n      <td>11</td>\n      <td>13</td>\n      <td>F#:min/b3</td>\n      <td>[1, 6, 9]</td>\n    </tr>\n    <tr>\n      <th>4</th>\n      <td>14</td>\n      <td>17</td>\n      <td>A:maj</td>\n      <td>[1, 4, 9]</td>\n    </tr>\n    <tr>\n      <th>...</th>\n      <td>...</td>\n      <td>...</td>\n      <td>...</td>\n      <td>...</td>\n    </tr>\n    <tr>\n      <th>151</th>\n      <td>492</td>\n      <td>494</td>\n      <td>A:maj</td>\n      <td>[1, 4, 9]</td>\n    </tr>\n    <tr>\n      <th>152</th>\n      <td>495</td>\n      <td>496</td>\n      <td>Ab:min</td>\n      <td>[3, 8, 11]</td>\n    </tr>\n    <tr>\n      <th>153</th>\n      <td>497</td>\n      <td>499</td>\n      <td>Ab:min7</td>\n      <td>[3, 6, 8, 11]</td>\n    </tr>\n    <tr>\n      <th>154</th>\n      <td>500</td>\n      <td>503</td>\n      <td>C#:min</td>\n      <td>[1, 4, 8]</td>\n    </tr>\n    <tr>\n      <th>155</th>\n      <td>504</td>\n      <td>505</td>\n      <td>N</td>\n      <td>[]</td>\n    </tr>\n  </tbody>\n</table>\n<p>156 rows × 4 columns</p>\n</div>"
     },
     "execution_count": 6,
     "metadata": {},
     "output_type": "execute_result"
    }
   ],
   "source": [
    "recognize_chords(msf_path, note_precision=0.125)"
   ],
   "metadata": {
    "collapsed": false,
    "pycharm": {
     "name": "#%%\n"
    }
   }
  },
  {
   "cell_type": "code",
   "execution_count": 7,
   "outputs": [
    {
     "name": "stdout",
     "output_type": "stream",
     "text": [
      "25.5 ms ± 334 µs per loop (mean ± std. dev. of 7 runs, 10 loops each)\n"
     ]
    }
   ],
   "source": [
    "%%timeit\n",
    "Sequence.from_midi(midi_path)"
   ],
   "metadata": {
    "collapsed": false,
    "pycharm": {
     "name": "#%%\n"
    }
   }
  },
  {
   "cell_type": "code",
   "execution_count": 8,
   "outputs": [
    {
     "name": "stdout",
     "output_type": "stream",
     "text": [
      "3.15 ms ± 45.1 µs per loop (mean ± std. dev. of 7 runs, 100 loops each)\n"
     ]
    }
   ],
   "source": [
    "%%timeit\n",
    "Sequence.from_msf(msf_path)"
   ],
   "metadata": {
    "collapsed": false,
    "pycharm": {
     "name": "#%%\n"
    }
   }
  }
 ],
 "metadata": {
  "kernelspec": {
   "display_name": "Python 3",
   "language": "python",
   "name": "python3"
  },
  "language_info": {
   "codemirror_mode": {
    "name": "ipython",
    "version": 2
   },
   "file_extension": ".py",
   "mimetype": "text/x-python",
   "name": "python",
   "nbconvert_exporter": "python",
   "pygments_lexer": "ipython2",
   "version": "2.7.6"
  }
 },
 "nbformat": 4,
 "nbformat_minor": 0
}