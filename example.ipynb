{
 "cells": [
  {
   "cell_type": "code",
   "execution_count": 1,
   "outputs": [],
   "source": [
    "midi_path = \"test_data/032.mid\""
   ],
   "metadata": {
    "collapsed": false,
    "pycharm": {
     "name": "#%%\n"
    }
   }
  },
  {
   "cell_type": "code",
   "execution_count": 2,
   "outputs": [
    {
     "data": {
      "text/plain": "    start  end      name          pitch\n0       0    5  B:min(9)  [1, 2, 6, 11]\n1       6    9     E:min     [4, 7, 11]\n2      10   13     B:min     [2, 6, 11]\n3      14   17    G:maj7  [2, 6, 7, 11]\n4      18   21   F#:min7   [1, 4, 6, 9]\n..    ...  ...       ...            ...\n71    224  227     B:min     [2, 6, 11]\n72    228  230     E:min     [4, 7, 11]\n73    231  235   F#:min7   [1, 4, 6, 9]\n74    236  237    B:sus2     [1, 6, 11]\n75    238  242     B:min     [2, 6, 11]\n\n[76 rows x 4 columns]",
      "text/html": "<div>\n<style scoped>\n    .dataframe tbody tr th:only-of-type {\n        vertical-align: middle;\n    }\n\n    .dataframe tbody tr th {\n        vertical-align: top;\n    }\n\n    .dataframe thead th {\n        text-align: right;\n    }\n</style>\n<table border=\"1\" class=\"dataframe\">\n  <thead>\n    <tr style=\"text-align: right;\">\n      <th></th>\n      <th>start</th>\n      <th>end</th>\n      <th>name</th>\n      <th>pitch</th>\n    </tr>\n  </thead>\n  <tbody>\n    <tr>\n      <th>0</th>\n      <td>0</td>\n      <td>5</td>\n      <td>B:min(9)</td>\n      <td>[1, 2, 6, 11]</td>\n    </tr>\n    <tr>\n      <th>1</th>\n      <td>6</td>\n      <td>9</td>\n      <td>E:min</td>\n      <td>[4, 7, 11]</td>\n    </tr>\n    <tr>\n      <th>2</th>\n      <td>10</td>\n      <td>13</td>\n      <td>B:min</td>\n      <td>[2, 6, 11]</td>\n    </tr>\n    <tr>\n      <th>3</th>\n      <td>14</td>\n      <td>17</td>\n      <td>G:maj7</td>\n      <td>[2, 6, 7, 11]</td>\n    </tr>\n    <tr>\n      <th>4</th>\n      <td>18</td>\n      <td>21</td>\n      <td>F#:min7</td>\n      <td>[1, 4, 6, 9]</td>\n    </tr>\n    <tr>\n      <th>...</th>\n      <td>...</td>\n      <td>...</td>\n      <td>...</td>\n      <td>...</td>\n    </tr>\n    <tr>\n      <th>71</th>\n      <td>224</td>\n      <td>227</td>\n      <td>B:min</td>\n      <td>[2, 6, 11]</td>\n    </tr>\n    <tr>\n      <th>72</th>\n      <td>228</td>\n      <td>230</td>\n      <td>E:min</td>\n      <td>[4, 7, 11]</td>\n    </tr>\n    <tr>\n      <th>73</th>\n      <td>231</td>\n      <td>235</td>\n      <td>F#:min7</td>\n      <td>[1, 4, 6, 9]</td>\n    </tr>\n    <tr>\n      <th>74</th>\n      <td>236</td>\n      <td>237</td>\n      <td>B:sus2</td>\n      <td>[1, 6, 11]</td>\n    </tr>\n    <tr>\n      <th>75</th>\n      <td>238</td>\n      <td>242</td>\n      <td>B:min</td>\n      <td>[2, 6, 11]</td>\n    </tr>\n  </tbody>\n</table>\n<p>76 rows × 4 columns</p>\n</div>"
     },
     "execution_count": 2,
     "metadata": {},
     "output_type": "execute_result"
    }
   ],
   "source": [
    "from chord_recognizer import recognize_chords\n",
    "recognize_chords(midi_path)"
   ],
   "metadata": {
    "collapsed": false,
    "pycharm": {
     "name": "#%%\n"
    }
   }
  },
  {
   "cell_type": "code",
   "execution_count": 3,
   "outputs": [
    {
     "name": "stdout",
     "output_type": "stream",
     "text": [
      "147 ms ± 9.61 ms per loop (mean ± std. dev. of 7 runs, 10 loops each)\n"
     ]
    }
   ],
   "source": [
    "%%timeit\n",
    "recognize_chords(midi_path)"
   ],
   "metadata": {
    "collapsed": false,
    "pycharm": {
     "name": "#%%\n"
    }
   }
  },
  {
   "cell_type": "code",
   "execution_count": null,
   "outputs": [],
   "source": [],
   "metadata": {
    "collapsed": false,
    "pycharm": {
     "name": "#%%\n"
    }
   }
  }
 ],
 "metadata": {
  "kernelspec": {
   "display_name": "Python 3",
   "language": "python",
   "name": "python3"
  },
  "language_info": {
   "codemirror_mode": {
    "name": "ipython",
    "version": 2
   },
   "file_extension": ".py",
   "mimetype": "text/x-python",
   "name": "python",
   "nbconvert_exporter": "python",
   "pygments_lexer": "ipython2",
   "version": "2.7.6"
  }
 },
 "nbformat": 4,
 "nbformat_minor": 0
}