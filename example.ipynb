{
 "cells": [
  {
   "cell_type": "code",
   "execution_count": 1,
   "outputs": [],
   "source": [
    "import os\n",
    "\n",
    "# midi_path = \"test_data/The Day We Find Love.mid\"\n",
    "midi_path = \"test_data/Dire Straits - So Far Away L.mid\"\n",
    "msf_path = os.path.splitext(midi_path)[0] + \".msf\""
   ],
   "metadata": {
    "collapsed": false,
    "pycharm": {
     "name": "#%%\n"
    }
   }
  },
  {
   "cell_type": "code",
   "execution_count": 2,
   "outputs": [
    {
     "data": {
      "text/plain": "     start  end     name       pitch\n0        0    3        N          []\n1        4    7    B:maj  [3, 6, 11]\n2        8   11    A:maj   [1, 4, 9]\n3       12   19  B:maj/3  [3, 6, 11]\n4       20   23    B:maj  [3, 6, 11]\n..     ...  ...      ...         ...\n124    556  559    B:maj  [3, 6, 11]\n125    560  563    A:maj   [1, 4, 9]\n126    564  567    E:maj  [4, 8, 11]\n127    568  571  E:maj/5  [4, 8, 11]\n128    572  572        N          []\n\n[129 rows x 4 columns]",
      "text/html": "<div>\n<style scoped>\n    .dataframe tbody tr th:only-of-type {\n        vertical-align: middle;\n    }\n\n    .dataframe tbody tr th {\n        vertical-align: top;\n    }\n\n    .dataframe thead th {\n        text-align: right;\n    }\n</style>\n<table border=\"1\" class=\"dataframe\">\n  <thead>\n    <tr style=\"text-align: right;\">\n      <th></th>\n      <th>start</th>\n      <th>end</th>\n      <th>name</th>\n      <th>pitch</th>\n    </tr>\n  </thead>\n  <tbody>\n    <tr>\n      <th>0</th>\n      <td>0</td>\n      <td>3</td>\n      <td>N</td>\n      <td>[]</td>\n    </tr>\n    <tr>\n      <th>1</th>\n      <td>4</td>\n      <td>7</td>\n      <td>B:maj</td>\n      <td>[3, 6, 11]</td>\n    </tr>\n    <tr>\n      <th>2</th>\n      <td>8</td>\n      <td>11</td>\n      <td>A:maj</td>\n      <td>[1, 4, 9]</td>\n    </tr>\n    <tr>\n      <th>3</th>\n      <td>12</td>\n      <td>19</td>\n      <td>B:maj/3</td>\n      <td>[3, 6, 11]</td>\n    </tr>\n    <tr>\n      <th>4</th>\n      <td>20</td>\n      <td>23</td>\n      <td>B:maj</td>\n      <td>[3, 6, 11]</td>\n    </tr>\n    <tr>\n      <th>...</th>\n      <td>...</td>\n      <td>...</td>\n      <td>...</td>\n      <td>...</td>\n    </tr>\n    <tr>\n      <th>124</th>\n      <td>556</td>\n      <td>559</td>\n      <td>B:maj</td>\n      <td>[3, 6, 11]</td>\n    </tr>\n    <tr>\n      <th>125</th>\n      <td>560</td>\n      <td>563</td>\n      <td>A:maj</td>\n      <td>[1, 4, 9]</td>\n    </tr>\n    <tr>\n      <th>126</th>\n      <td>564</td>\n      <td>567</td>\n      <td>E:maj</td>\n      <td>[4, 8, 11]</td>\n    </tr>\n    <tr>\n      <th>127</th>\n      <td>568</td>\n      <td>571</td>\n      <td>E:maj/5</td>\n      <td>[4, 8, 11]</td>\n    </tr>\n    <tr>\n      <th>128</th>\n      <td>572</td>\n      <td>572</td>\n      <td>N</td>\n      <td>[]</td>\n    </tr>\n  </tbody>\n</table>\n<p>129 rows × 4 columns</p>\n</div>"
     },
     "execution_count": 2,
     "metadata": {},
     "output_type": "execute_result"
    }
   ],
   "source": [
    "from chord_recognizer import recognize_chords\n",
    "\n",
    "result = recognize_chords(midi_path, note_precision=0.125)\n",
    "result.to_csv(os.path.splitext(midi_path)[0] + \".csv\", index=False)\n",
    "result"
   ],
   "metadata": {
    "collapsed": false,
    "pycharm": {
     "name": "#%%\n"
    }
   }
  },
  {
   "cell_type": "code",
   "execution_count": 3,
   "outputs": [
    {
     "name": "stdout",
     "output_type": "stream",
     "text": [
      "209 ms ± 7.89 ms per loop (mean ± std. dev. of 7 runs, 1 loop each)\n"
     ]
    }
   ],
   "source": [
    "%%timeit\n",
    "recognize_chords(midi_path, note_precision=0.125)"
   ],
   "metadata": {
    "collapsed": false,
    "pycharm": {
     "name": "#%%\n"
    }
   }
  },
  {
   "cell_type": "code",
   "execution_count": 4,
   "outputs": [],
   "source": [
    "from chord_recognizer.util import Sequence\n",
    "\n",
    "s = Sequence.from_midi(midi_path).to_msf(960)\n",
    "with open(msf_path, \"wb\") as f:\n",
    "    f.write(s.SerializeToString())"
   ],
   "metadata": {
    "collapsed": false,
    "pycharm": {
     "name": "#%%\n"
    }
   }
  },
  {
   "cell_type": "code",
   "execution_count": 5,
   "outputs": [
    {
     "name": "stdout",
     "output_type": "stream",
     "text": [
      "77.8 ms ± 860 µs per loop (mean ± std. dev. of 7 runs, 10 loops each)\n"
     ]
    }
   ],
   "source": [
    "%%timeit\n",
    "recognize_chords(msf_path, note_precision=0.125)"
   ],
   "metadata": {
    "collapsed": false,
    "pycharm": {
     "name": "#%%\n"
    }
   }
  },
  {
   "cell_type": "code",
   "execution_count": 6,
   "outputs": [
    {
     "data": {
      "text/plain": "     start  end     name       pitch\n0        0    3        N          []\n1        4    7    B:maj  [3, 6, 11]\n2        8   11    A:maj   [1, 4, 9]\n3       12   19  B:maj/3  [3, 6, 11]\n4       20   23    B:maj  [3, 6, 11]\n..     ...  ...      ...         ...\n124    556  559    B:maj  [3, 6, 11]\n125    560  563    A:maj   [1, 4, 9]\n126    564  567    E:maj  [4, 8, 11]\n127    568  571  E:maj/5  [4, 8, 11]\n128    572  572        N          []\n\n[129 rows x 4 columns]",
      "text/html": "<div>\n<style scoped>\n    .dataframe tbody tr th:only-of-type {\n        vertical-align: middle;\n    }\n\n    .dataframe tbody tr th {\n        vertical-align: top;\n    }\n\n    .dataframe thead th {\n        text-align: right;\n    }\n</style>\n<table border=\"1\" class=\"dataframe\">\n  <thead>\n    <tr style=\"text-align: right;\">\n      <th></th>\n      <th>start</th>\n      <th>end</th>\n      <th>name</th>\n      <th>pitch</th>\n    </tr>\n  </thead>\n  <tbody>\n    <tr>\n      <th>0</th>\n      <td>0</td>\n      <td>3</td>\n      <td>N</td>\n      <td>[]</td>\n    </tr>\n    <tr>\n      <th>1</th>\n      <td>4</td>\n      <td>7</td>\n      <td>B:maj</td>\n      <td>[3, 6, 11]</td>\n    </tr>\n    <tr>\n      <th>2</th>\n      <td>8</td>\n      <td>11</td>\n      <td>A:maj</td>\n      <td>[1, 4, 9]</td>\n    </tr>\n    <tr>\n      <th>3</th>\n      <td>12</td>\n      <td>19</td>\n      <td>B:maj/3</td>\n      <td>[3, 6, 11]</td>\n    </tr>\n    <tr>\n      <th>4</th>\n      <td>20</td>\n      <td>23</td>\n      <td>B:maj</td>\n      <td>[3, 6, 11]</td>\n    </tr>\n    <tr>\n      <th>...</th>\n      <td>...</td>\n      <td>...</td>\n      <td>...</td>\n      <td>...</td>\n    </tr>\n    <tr>\n      <th>124</th>\n      <td>556</td>\n      <td>559</td>\n      <td>B:maj</td>\n      <td>[3, 6, 11]</td>\n    </tr>\n    <tr>\n      <th>125</th>\n      <td>560</td>\n      <td>563</td>\n      <td>A:maj</td>\n      <td>[1, 4, 9]</td>\n    </tr>\n    <tr>\n      <th>126</th>\n      <td>564</td>\n      <td>567</td>\n      <td>E:maj</td>\n      <td>[4, 8, 11]</td>\n    </tr>\n    <tr>\n      <th>127</th>\n      <td>568</td>\n      <td>571</td>\n      <td>E:maj/5</td>\n      <td>[4, 8, 11]</td>\n    </tr>\n    <tr>\n      <th>128</th>\n      <td>572</td>\n      <td>572</td>\n      <td>N</td>\n      <td>[]</td>\n    </tr>\n  </tbody>\n</table>\n<p>129 rows × 4 columns</p>\n</div>"
     },
     "execution_count": 6,
     "metadata": {},
     "output_type": "execute_result"
    }
   ],
   "source": [
    "recognize_chords(msf_path, note_precision=0.125)"
   ],
   "metadata": {
    "collapsed": false,
    "pycharm": {
     "name": "#%%\n"
    }
   }
  },
  {
   "cell_type": "code",
   "execution_count": 7,
   "outputs": [
    {
     "name": "stdout",
     "output_type": "stream",
     "text": [
      "146 ms ± 590 µs per loop (mean ± std. dev. of 7 runs, 10 loops each)\n"
     ]
    }
   ],
   "source": [
    "%%timeit\n",
    "Sequence.from_midi(midi_path)"
   ],
   "metadata": {
    "collapsed": false,
    "pycharm": {
     "name": "#%%\n"
    }
   }
  },
  {
   "cell_type": "code",
   "execution_count": 8,
   "outputs": [
    {
     "name": "stdout",
     "output_type": "stream",
     "text": [
      "19.3 ms ± 697 µs per loop (mean ± std. dev. of 7 runs, 100 loops each)\n"
     ]
    }
   ],
   "source": [
    "%%timeit\n",
    "Sequence.from_msf(msf_path)"
   ],
   "metadata": {
    "collapsed": false,
    "pycharm": {
     "name": "#%%\n"
    }
   }
  }
 ],
 "metadata": {
  "kernelspec": {
   "display_name": "Python 3",
   "language": "python",
   "name": "python3"
  },
  "language_info": {
   "codemirror_mode": {
    "name": "ipython",
    "version": 2
   },
   "file_extension": ".py",
   "mimetype": "text/x-python",
   "name": "python",
   "nbconvert_exporter": "python",
   "pygments_lexer": "ipython2",
   "version": "2.7.6"
  }
 },
 "nbformat": 4,
 "nbformat_minor": 0
}