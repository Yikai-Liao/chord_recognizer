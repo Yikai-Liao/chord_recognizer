{
 "cells": [
  {
   "cell_type": "code",
   "execution_count": 1,
   "outputs": [],
   "source": [
    "import os\n",
    "\n",
    "midi_path = \"test_data/The Day We Find Love.mid\"\n",
    "msf_path = os.path.splitext(midi_path)[0] + \".msf\""
   ],
   "metadata": {
    "collapsed": false,
    "pycharm": {
     "name": "#%%\n"
    }
   }
  },
  {
   "cell_type": "code",
   "execution_count": 2,
   "outputs": [
    {
     "data": {
      "text/plain": "    start  end      name          pitch\n0       0    3         N             []\n1       4    7  D:maj(9)   [2, 4, 6, 9]\n2       8   11     B:min     [2, 6, 11]\n3      12   15     G:maj     [2, 7, 11]\n4      16   19    G:maj7  [2, 6, 7, 11]\n..    ...  ...       ...            ...\n85    324  327    C#:min      [1, 4, 8]\n86    328  331     A:maj      [1, 4, 9]\n87    332  335    B:sus4     [4, 6, 11]\n88    336  339     E:maj     [4, 8, 11]\n89    340  340         N             []\n\n[90 rows x 4 columns]",
      "text/html": "<div>\n<style scoped>\n    .dataframe tbody tr th:only-of-type {\n        vertical-align: middle;\n    }\n\n    .dataframe tbody tr th {\n        vertical-align: top;\n    }\n\n    .dataframe thead th {\n        text-align: right;\n    }\n</style>\n<table border=\"1\" class=\"dataframe\">\n  <thead>\n    <tr style=\"text-align: right;\">\n      <th></th>\n      <th>start</th>\n      <th>end</th>\n      <th>name</th>\n      <th>pitch</th>\n    </tr>\n  </thead>\n  <tbody>\n    <tr>\n      <th>0</th>\n      <td>0</td>\n      <td>3</td>\n      <td>N</td>\n      <td>[]</td>\n    </tr>\n    <tr>\n      <th>1</th>\n      <td>4</td>\n      <td>7</td>\n      <td>D:maj(9)</td>\n      <td>[2, 4, 6, 9]</td>\n    </tr>\n    <tr>\n      <th>2</th>\n      <td>8</td>\n      <td>11</td>\n      <td>B:min</td>\n      <td>[2, 6, 11]</td>\n    </tr>\n    <tr>\n      <th>3</th>\n      <td>12</td>\n      <td>15</td>\n      <td>G:maj</td>\n      <td>[2, 7, 11]</td>\n    </tr>\n    <tr>\n      <th>4</th>\n      <td>16</td>\n      <td>19</td>\n      <td>G:maj7</td>\n      <td>[2, 6, 7, 11]</td>\n    </tr>\n    <tr>\n      <th>...</th>\n      <td>...</td>\n      <td>...</td>\n      <td>...</td>\n      <td>...</td>\n    </tr>\n    <tr>\n      <th>85</th>\n      <td>324</td>\n      <td>327</td>\n      <td>C#:min</td>\n      <td>[1, 4, 8]</td>\n    </tr>\n    <tr>\n      <th>86</th>\n      <td>328</td>\n      <td>331</td>\n      <td>A:maj</td>\n      <td>[1, 4, 9]</td>\n    </tr>\n    <tr>\n      <th>87</th>\n      <td>332</td>\n      <td>335</td>\n      <td>B:sus4</td>\n      <td>[4, 6, 11]</td>\n    </tr>\n    <tr>\n      <th>88</th>\n      <td>336</td>\n      <td>339</td>\n      <td>E:maj</td>\n      <td>[4, 8, 11]</td>\n    </tr>\n    <tr>\n      <th>89</th>\n      <td>340</td>\n      <td>340</td>\n      <td>N</td>\n      <td>[]</td>\n    </tr>\n  </tbody>\n</table>\n<p>90 rows × 4 columns</p>\n</div>"
     },
     "execution_count": 2,
     "metadata": {},
     "output_type": "execute_result"
    }
   ],
   "source": [
    "from chord_recognizer import recognize_chords\n",
    "\n",
    "result = recognize_chords(midi_path, note_precision=0.125)\n",
    "result.to_csv(os.path.splitext(midi_path)[0] + \".csv\", index=False)\n",
    "result"
   ],
   "metadata": {
    "collapsed": false,
    "pycharm": {
     "name": "#%%\n"
    }
   }
  },
  {
   "cell_type": "code",
   "execution_count": 3,
   "outputs": [
    {
     "name": "stdout",
     "output_type": "stream",
     "text": [
      "88 ms ± 2.56 ms per loop (mean ± std. dev. of 7 runs, 10 loops each)\n"
     ]
    }
   ],
   "source": [
    "%%timeit\n",
    "recognize_chords(midi_path, note_precision=0.125)"
   ],
   "metadata": {
    "collapsed": false,
    "pycharm": {
     "name": "#%%\n"
    }
   }
  },
  {
   "cell_type": "code",
   "execution_count": 4,
   "outputs": [],
   "source": [
    "from chord_recognizer.parse import Sequence\n",
    "\n",
    "s = Sequence.from_midi(midi_path).to_msf(960)\n",
    "with open(msf_path, \"wb\") as f:\n",
    "    f.write(s.SerializeToString())"
   ],
   "metadata": {
    "collapsed": false,
    "pycharm": {
     "name": "#%%\n"
    }
   }
  },
  {
   "cell_type": "code",
   "execution_count": 5,
   "outputs": [
    {
     "name": "stdout",
     "output_type": "stream",
     "text": [
      "39.2 ms ± 617 µs per loop (mean ± std. dev. of 7 runs, 10 loops each)\n"
     ]
    }
   ],
   "source": [
    "%%timeit\n",
    "recognize_chords(msf_path, note_precision=0.125)"
   ],
   "metadata": {
    "collapsed": false,
    "pycharm": {
     "name": "#%%\n"
    }
   }
  },
  {
   "cell_type": "code",
   "execution_count": 5,
   "outputs": [],
   "source": [],
   "metadata": {
    "collapsed": false,
    "pycharm": {
     "name": "#%%\n"
    }
   }
  }
 ],
 "metadata": {
  "kernelspec": {
   "display_name": "Python 3",
   "language": "python",
   "name": "python3"
  },
  "language_info": {
   "codemirror_mode": {
    "name": "ipython",
    "version": 2
   },
   "file_extension": ".py",
   "mimetype": "text/x-python",
   "name": "python",
   "nbconvert_exporter": "python",
   "pygments_lexer": "ipython2",
   "version": "2.7.6"
  }
 },
 "nbformat": 4,
 "nbformat_minor": 0
}